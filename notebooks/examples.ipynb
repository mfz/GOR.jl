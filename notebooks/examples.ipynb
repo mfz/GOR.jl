{
 "cells": [
  {
   "cell_type": "code",
   "execution_count": 1,
   "metadata": {},
   "outputs": [
    {
     "name": "stderr",
     "output_type": "stream",
     "text": [
      "┌ Info: Precompiling GOR [7e057e01-19b1-480a-9799-281a76ed4e64]\n",
      "└ @ Base loading.jl:1662\n"
     ]
    }
   ],
   "source": [
    "using GOR\n",
    "using DataFrames"
   ]
  },
  {
   "cell_type": "code",
   "execution_count": 2,
   "metadata": {},
   "outputs": [
    {
     "data": {
      "text/plain": []
     },
     "execution_count": 2,
     "metadata": {},
     "output_type": "execute_result"
    },
    {
     "name": "stdout",
     "output_type": "stream",
     "text": [
      "<GorFile: /Users/florian/projects/GOR.jl/src/../test/right.gor>"
     ]
    }
   ],
   "source": [
    "left = GorFile(GOR.pkgpath(\"test\", \"left.gor\"))\n",
    "right = GorFile(GOR.pkgpath(\"test\", \"right.gor\"))"
   ]
  },
  {
   "cell_type": "code",
   "execution_count": 3,
   "metadata": {},
   "outputs": [
    {
     "data": {
      "text/plain": [
       "NamedTuple{(:Chrom, :Pos, :Val), Tuple{InlineStrings.String7, Int64, InlineStrings.String7}}"
      ]
     },
     "execution_count": 3,
     "metadata": {},
     "output_type": "execute_result"
    }
   ],
   "source": [
    "eltype(left)"
   ]
  },
  {
   "cell_type": "code",
   "execution_count": 4,
   "metadata": {},
   "outputs": [
    {
     "data": {
      "text/html": [
       "<div class=\"data-frame\"><p>5 rows × 3 columns</p><table class=\"data-frame\"><thead><tr><th></th><th>Chrom</th><th>Pos</th><th>Val</th></tr><tr><th></th><th title=\"InlineStrings.String7\">String7</th><th title=\"Int64\">Int64</th><th title=\"InlineStrings.String7\">String7</th></tr></thead><tbody><tr><th>1</th><td>chr1</td><td>1</td><td>r1</td></tr><tr><th>2</th><td>chr1</td><td>2</td><td>r2</td></tr><tr><th>3</th><td>chr1</td><td>3</td><td>r3</td></tr><tr><th>4</th><td>chr1</td><td>4</td><td>r4</td></tr><tr><th>5</th><td>chr1</td><td>5</td><td>r5</td></tr></tbody></table></div>"
      ],
      "text/latex": [
       "\\begin{tabular}{r|ccc}\n",
       "\t& Chrom & Pos & Val\\\\\n",
       "\t\\hline\n",
       "\t& String7 & Int64 & String7\\\\\n",
       "\t\\hline\n",
       "\t1 & chr1 & 1 & r1 \\\\\n",
       "\t2 & chr1 & 2 & r2 \\\\\n",
       "\t3 & chr1 & 3 & r3 \\\\\n",
       "\t4 & chr1 & 4 & r4 \\\\\n",
       "\t5 & chr1 & 5 & r5 \\\\\n",
       "\\end{tabular}\n"
      ],
      "text/plain": [
       "\u001b[1m5×3 DataFrame\u001b[0m\n",
       "\u001b[1m Row \u001b[0m│\u001b[1m Chrom   \u001b[0m\u001b[1m Pos   \u001b[0m\u001b[1m Val     \u001b[0m\n",
       "\u001b[1m     \u001b[0m│\u001b[90m String7 \u001b[0m\u001b[90m Int64 \u001b[0m\u001b[90m String7 \u001b[0m\n",
       "─────┼─────────────────────────\n",
       "   1 │ chr1         1  r1\n",
       "   2 │ chr1         2  r2\n",
       "   3 │ chr1         3  r3\n",
       "   4 │ chr1         4  r4\n",
       "   5 │ chr1         5  r5"
      ]
     },
     "execution_count": 4,
     "metadata": {},
     "output_type": "execute_result"
    }
   ],
   "source": [
    "right |> top(5) |> DataFrame"
   ]
  },
  {
   "cell_type": "code",
   "execution_count": 5,
   "metadata": {},
   "outputs": [
    {
     "data": {
      "text/html": [
       "<div class=\"data-frame\"><p>5 rows × 3 columns</p><table class=\"data-frame\"><thead><tr><th></th><th>Chrom</th><th>Pos</th><th>Val</th></tr><tr><th></th><th title=\"InlineStrings.String7\">String7</th><th title=\"Int64\">Int64</th><th title=\"InlineStrings.String7\">String7</th></tr></thead><tbody><tr><th>1</th><td>chr1</td><td>1</td><td>l1</td></tr><tr><th>2</th><td>chr1</td><td>2</td><td>l2</td></tr><tr><th>3</th><td>chr1</td><td>3</td><td>l3</td></tr><tr><th>4</th><td>chr1</td><td>4</td><td>l4</td></tr><tr><th>5</th><td>chr1</td><td>5</td><td>l5</td></tr></tbody></table></div>"
      ],
      "text/latex": [
       "\\begin{tabular}{r|ccc}\n",
       "\t& Chrom & Pos & Val\\\\\n",
       "\t\\hline\n",
       "\t& String7 & Int64 & String7\\\\\n",
       "\t\\hline\n",
       "\t1 & chr1 & 1 & l1 \\\\\n",
       "\t2 & chr1 & 2 & l2 \\\\\n",
       "\t3 & chr1 & 3 & l3 \\\\\n",
       "\t4 & chr1 & 4 & l4 \\\\\n",
       "\t5 & chr1 & 5 & l5 \\\\\n",
       "\\end{tabular}\n"
      ],
      "text/plain": [
       "\u001b[1m5×3 DataFrame\u001b[0m\n",
       "\u001b[1m Row \u001b[0m│\u001b[1m Chrom   \u001b[0m\u001b[1m Pos   \u001b[0m\u001b[1m Val     \u001b[0m\n",
       "\u001b[1m     \u001b[0m│\u001b[90m String7 \u001b[0m\u001b[90m Int64 \u001b[0m\u001b[90m String7 \u001b[0m\n",
       "─────┼─────────────────────────\n",
       "   1 │ chr1         1  l1\n",
       "   2 │ chr1         2  l2\n",
       "   3 │ chr1         3  l3\n",
       "   4 │ chr1         4  l4\n",
       "   5 │ chr1         5  l5"
      ]
     },
     "execution_count": 5,
     "metadata": {},
     "output_type": "execute_result"
    }
   ],
   "source": [
    "left |> top(5) |> DataFrame"
   ]
  },
  {
   "cell_type": "code",
   "execution_count": 6,
   "metadata": {},
   "outputs": [
    {
     "data": {
      "text/plain": [
       "GOR.InnerJoin{GOR.GorFileIter{Tables.NamedTupleIterator{Tables.Schema{(:Chrom, :Pos, :Val), Tuple{InlineStrings.String7, Int64, InlineStrings.String7}}, CSV.Rows{Vector{UInt8}, Tuple{}, Any, WeakRefStrings.PosLenString}}}, GOR.GorFileIter{Tables.NamedTupleIterator{Tables.Schema{(:Chrom, :Pos, :Val), Tuple{InlineStrings.String7, Int64, InlineStrings.String7}}, CSV.Rows{Vector{UInt8}, Tuple{}, Any, WeakRefStrings.PosLenString}}}}(, , 0, :snpsnp, 2, 2)"
      ]
     },
     "execution_count": 6,
     "metadata": {},
     "output_type": "execute_result"
    },
    {
     "name": "stdout",
     "output_type": "stream",
     "text": [
      "<GorFile: /Users/florian/projects/GOR.jl/src/../test/left.gor><GorFile: /Users/florian/projects/GOR.jl/src/../test/right.gor>"
     ]
    }
   ],
   "source": [
    "j = GOR.join(left, right)"
   ]
  },
  {
   "cell_type": "code",
   "execution_count": 7,
   "metadata": {},
   "outputs": [
    {
     "data": {
      "text/plain": [
       "NamedTuple{(:Chrom, :Pos, :Val, :Chromx, :Posx, :Valx), Tuple{InlineStrings.String7, Int64, InlineStrings.String7, InlineStrings.String7, Int64, InlineStrings.String7}}"
      ]
     },
     "execution_count": 7,
     "metadata": {},
     "output_type": "execute_result"
    }
   ],
   "source": [
    "eltype(j)"
   ]
  },
  {
   "cell_type": "code",
   "execution_count": 8,
   "metadata": {},
   "outputs": [
    {
     "data": {
      "text/html": [
       "<div class=\"data-frame\"><p>5 rows × 6 columns</p><table class=\"data-frame\"><thead><tr><th></th><th>Chrom</th><th>Pos</th><th>Val</th><th>Chromx</th><th>Posx</th><th>Valx</th></tr><tr><th></th><th title=\"InlineStrings.String7\">String7</th><th title=\"Int64\">Int64</th><th title=\"InlineStrings.String7\">String7</th><th title=\"InlineStrings.String7\">String7</th><th title=\"Int64\">Int64</th><th title=\"InlineStrings.String7\">String7</th></tr></thead><tbody><tr><th>1</th><td>chr1</td><td>1</td><td>l1</td><td>chr1</td><td>1</td><td>r1</td></tr><tr><th>2</th><td>chr1</td><td>2</td><td>l2</td><td>chr1</td><td>2</td><td>r2</td></tr><tr><th>3</th><td>chr1</td><td>3</td><td>l3</td><td>chr1</td><td>3</td><td>r3</td></tr><tr><th>4</th><td>chr1</td><td>4</td><td>l4</td><td>chr1</td><td>4</td><td>r4</td></tr><tr><th>5</th><td>chr1</td><td>5</td><td>l5</td><td>chr1</td><td>5</td><td>r5</td></tr></tbody></table></div>"
      ],
      "text/latex": [
       "\\begin{tabular}{r|cccccc}\n",
       "\t& Chrom & Pos & Val & Chromx & Posx & Valx\\\\\n",
       "\t\\hline\n",
       "\t& String7 & Int64 & String7 & String7 & Int64 & String7\\\\\n",
       "\t\\hline\n",
       "\t1 & chr1 & 1 & l1 & chr1 & 1 & r1 \\\\\n",
       "\t2 & chr1 & 2 & l2 & chr1 & 2 & r2 \\\\\n",
       "\t3 & chr1 & 3 & l3 & chr1 & 3 & r3 \\\\\n",
       "\t4 & chr1 & 4 & l4 & chr1 & 4 & r4 \\\\\n",
       "\t5 & chr1 & 5 & l5 & chr1 & 5 & r5 \\\\\n",
       "\\end{tabular}\n"
      ],
      "text/plain": [
       "\u001b[1m5×6 DataFrame\u001b[0m\n",
       "\u001b[1m Row \u001b[0m│\u001b[1m Chrom   \u001b[0m\u001b[1m Pos   \u001b[0m\u001b[1m Val     \u001b[0m\u001b[1m Chromx  \u001b[0m\u001b[1m Posx  \u001b[0m\u001b[1m Valx    \u001b[0m\n",
       "\u001b[1m     \u001b[0m│\u001b[90m String7 \u001b[0m\u001b[90m Int64 \u001b[0m\u001b[90m String7 \u001b[0m\u001b[90m String7 \u001b[0m\u001b[90m Int64 \u001b[0m\u001b[90m String7 \u001b[0m\n",
       "─────┼──────────────────────────────────────────────────\n",
       "   1 │ chr1         1  l1       chr1         1  r1\n",
       "   2 │ chr1         2  l2       chr1         2  r2\n",
       "   3 │ chr1         3  l3       chr1         3  r3\n",
       "   4 │ chr1         4  l4       chr1         4  r4\n",
       "   5 │ chr1         5  l5       chr1         5  r5"
      ]
     },
     "execution_count": 8,
     "metadata": {},
     "output_type": "execute_result"
    }
   ],
   "source": [
    "j |> top(5) |> DataFrame"
   ]
  },
  {
   "cell_type": "code",
   "execution_count": 15,
   "metadata": {},
   "outputs": [
    {
     "data": {
      "text/html": [
       "<div class=\"data-frame\"><p>5 rows × 6 columns</p><table class=\"data-frame\"><thead><tr><th></th><th>Chrom</th><th>leftPos</th><th>leftVal</th><th>Chromx</th><th>rightPos</th><th>rightVal</th></tr><tr><th></th><th title=\"InlineStrings.String7\">String7</th><th title=\"Int64\">Int64</th><th title=\"InlineStrings.String7\">String7</th><th title=\"InlineStrings.String7\">String7</th><th title=\"Int64\">Int64</th><th title=\"InlineStrings.String7\">String7</th></tr></thead><tbody><tr><th>1</th><td>chr1</td><td>1</td><td>l1</td><td>chr1</td><td>1</td><td>r1</td></tr><tr><th>2</th><td>chr1</td><td>2</td><td>l2</td><td>chr1</td><td>2</td><td>r2</td></tr><tr><th>3</th><td>chr1</td><td>3</td><td>l3</td><td>chr1</td><td>3</td><td>r3</td></tr><tr><th>4</th><td>chr1</td><td>4</td><td>l4</td><td>chr1</td><td>4</td><td>r4</td></tr><tr><th>5</th><td>chr1</td><td>5</td><td>l5</td><td>chr1</td><td>5</td><td>r5</td></tr></tbody></table></div>"
      ],
      "text/latex": [
       "\\begin{tabular}{r|cccccc}\n",
       "\t& Chrom & leftPos & leftVal & Chromx & rightPos & rightVal\\\\\n",
       "\t\\hline\n",
       "\t& String7 & Int64 & String7 & String7 & Int64 & String7\\\\\n",
       "\t\\hline\n",
       "\t1 & chr1 & 1 & l1 & chr1 & 1 & r1 \\\\\n",
       "\t2 & chr1 & 2 & l2 & chr1 & 2 & r2 \\\\\n",
       "\t3 & chr1 & 3 & l3 & chr1 & 3 & r3 \\\\\n",
       "\t4 & chr1 & 4 & l4 & chr1 & 4 & r4 \\\\\n",
       "\t5 & chr1 & 5 & l5 & chr1 & 5 & r5 \\\\\n",
       "\\end{tabular}\n"
      ],
      "text/plain": [
       "\u001b[1m5×6 DataFrame\u001b[0m\n",
       "\u001b[1m Row \u001b[0m│\u001b[1m Chrom   \u001b[0m\u001b[1m leftPos \u001b[0m\u001b[1m leftVal \u001b[0m\u001b[1m Chromx  \u001b[0m\u001b[1m rightPos \u001b[0m\u001b[1m rightVal \u001b[0m\n",
       "\u001b[1m     \u001b[0m│\u001b[90m String7 \u001b[0m\u001b[90m Int64   \u001b[0m\u001b[90m String7 \u001b[0m\u001b[90m String7 \u001b[0m\u001b[90m Int64    \u001b[0m\u001b[90m String7  \u001b[0m\n",
       "─────┼────────────────────────────────────────────────────────\n",
       "   1 │ chr1           1  l1       chr1            1  r1\n",
       "   2 │ chr1           2  l2       chr1            2  r2\n",
       "   3 │ chr1           3  l3       chr1            3  r3\n",
       "   4 │ chr1           4  l4       chr1            4  r4\n",
       "   5 │ chr1           5  l5       chr1            5  r5"
      ]
     },
     "execution_count": 15,
     "metadata": {},
     "output_type": "execute_result"
    }
   ],
   "source": [
    "j2 = j |> GOR.rename(:Pos => :leftPos, :Posx => :rightPos, :Val => :leftVal, :Valx => :rightVal) |> top(5) |> DataFrame"
   ]
  },
  {
   "cell_type": "code",
   "execution_count": 13,
   "metadata": {},
   "outputs": [
    {
     "data": {
      "text/html": [
       "<div class=\"data-frame\"><p>5 rows × 3 columns</p><table class=\"data-frame\"><thead><tr><th></th><th>Chrom</th><th>Position</th><th>Val</th></tr><tr><th></th><th title=\"InlineStrings.String7\">String7</th><th title=\"Int64\">Int64</th><th title=\"InlineStrings.String7\">String7</th></tr></thead><tbody><tr><th>1</th><td>chr1</td><td>1</td><td>l1</td></tr><tr><th>2</th><td>chr1</td><td>2</td><td>l2</td></tr><tr><th>3</th><td>chr1</td><td>3</td><td>l3</td></tr><tr><th>4</th><td>chr1</td><td>4</td><td>l4</td></tr><tr><th>5</th><td>chr1</td><td>5</td><td>l5</td></tr></tbody></table></div>"
      ],
      "text/latex": [
       "\\begin{tabular}{r|ccc}\n",
       "\t& Chrom & Position & Val\\\\\n",
       "\t\\hline\n",
       "\t& String7 & Int64 & String7\\\\\n",
       "\t\\hline\n",
       "\t1 & chr1 & 1 & l1 \\\\\n",
       "\t2 & chr1 & 2 & l2 \\\\\n",
       "\t3 & chr1 & 3 & l3 \\\\\n",
       "\t4 & chr1 & 4 & l4 \\\\\n",
       "\t5 & chr1 & 5 & l5 \\\\\n",
       "\\end{tabular}\n"
      ],
      "text/plain": [
       "\u001b[1m5×3 DataFrame\u001b[0m\n",
       "\u001b[1m Row \u001b[0m│\u001b[1m Chrom   \u001b[0m\u001b[1m Position \u001b[0m\u001b[1m Val     \u001b[0m\n",
       "\u001b[1m     \u001b[0m│\u001b[90m String7 \u001b[0m\u001b[90m Int64    \u001b[0m\u001b[90m String7 \u001b[0m\n",
       "─────┼────────────────────────────\n",
       "   1 │ chr1            1  l1\n",
       "   2 │ chr1            2  l2\n",
       "   3 │ chr1            3  l3\n",
       "   4 │ chr1            4  l4\n",
       "   5 │ chr1            5  l5"
      ]
     },
     "execution_count": 13,
     "metadata": {},
     "output_type": "execute_result"
    }
   ],
   "source": [
    "left |> GOR.rename(:Pos => :Position) |> top(5)  |> DataFrame"
   ]
  },
  {
   "cell_type": "code",
   "execution_count": 22,
   "metadata": {},
   "outputs": [
    {
     "data": {
      "text/html": [
       "<div class=\"data-frame\"><p>3 rows × 2 columns</p><table class=\"data-frame\"><thead><tr><th></th><th>a</th><th>c</th></tr><tr><th></th><th title=\"Int64\">Int64</th><th title=\"Int64\">Int64</th></tr></thead><tbody><tr><th>1</th><td>1</td><td>1</td></tr><tr><th>2</th><td>2</td><td>2</td></tr><tr><th>3</th><td>3</td><td>3</td></tr></tbody></table></div>"
      ],
      "text/latex": [
       "\\begin{tabular}{r|cc}\n",
       "\t& a & c\\\\\n",
       "\t\\hline\n",
       "\t& Int64 & Int64\\\\\n",
       "\t\\hline\n",
       "\t1 & 1 & 1 \\\\\n",
       "\t2 & 2 & 2 \\\\\n",
       "\t3 & 3 & 3 \\\\\n",
       "\\end{tabular}\n"
      ],
      "text/plain": [
       "\u001b[1m3×2 DataFrame\u001b[0m\n",
       "\u001b[1m Row \u001b[0m│\u001b[1m a     \u001b[0m\u001b[1m c     \u001b[0m\n",
       "\u001b[1m     \u001b[0m│\u001b[90m Int64 \u001b[0m\u001b[90m Int64 \u001b[0m\n",
       "─────┼──────────────\n",
       "   1 │     1      1\n",
       "   2 │     2      2\n",
       "   3 │     3      3"
      ]
     },
     "execution_count": 22,
     "metadata": {},
     "output_type": "execute_result"
    }
   ],
   "source": [
    "d |> Tables.rows |> GOR.rename(:b => :c) |> DataFrame"
   ]
  },
  {
   "cell_type": "code",
   "execution_count": 28,
   "metadata": {},
   "outputs": [
    {
     "data": {
      "text/html": [
       "<div class=\"data-frame\"><p>5 rows × 5 columns</p><table class=\"data-frame\"><thead><tr><th></th><th>Chrom</th><th>Pos</th><th>Val</th><th>Value</th><th>other</th></tr><tr><th></th><th title=\"InlineStrings.String7\">String7</th><th title=\"Int64\">Int64</th><th title=\"InlineStrings.String7\">String7</th><th title=\"Int64\">Int64</th><th title=\"Int64\">Int64</th></tr></thead><tbody><tr><th>1</th><td>chr1</td><td>1</td><td>l1</td><td>2</td><td>7</td></tr><tr><th>2</th><td>chr1</td><td>2</td><td>l2</td><td>4</td><td>7</td></tr><tr><th>3</th><td>chr1</td><td>3</td><td>l3</td><td>6</td><td>7</td></tr><tr><th>4</th><td>chr1</td><td>4</td><td>l4</td><td>8</td><td>7</td></tr><tr><th>5</th><td>chr1</td><td>5</td><td>l5</td><td>10</td><td>7</td></tr></tbody></table></div>"
      ],
      "text/latex": [
       "\\begin{tabular}{r|ccccc}\n",
       "\t& Chrom & Pos & Val & Value & other\\\\\n",
       "\t\\hline\n",
       "\t& String7 & Int64 & String7 & Int64 & Int64\\\\\n",
       "\t\\hline\n",
       "\t1 & chr1 & 1 & l1 & 2 & 7 \\\\\n",
       "\t2 & chr1 & 2 & l2 & 4 & 7 \\\\\n",
       "\t3 & chr1 & 3 & l3 & 6 & 7 \\\\\n",
       "\t4 & chr1 & 4 & l4 & 8 & 7 \\\\\n",
       "\t5 & chr1 & 5 & l5 & 10 & 7 \\\\\n",
       "\\end{tabular}\n"
      ],
      "text/plain": [
       "\u001b[1m5×5 DataFrame\u001b[0m\n",
       "\u001b[1m Row \u001b[0m│\u001b[1m Chrom   \u001b[0m\u001b[1m Pos   \u001b[0m\u001b[1m Val     \u001b[0m\u001b[1m Value \u001b[0m\u001b[1m other \u001b[0m\n",
       "\u001b[1m     \u001b[0m│\u001b[90m String7 \u001b[0m\u001b[90m Int64 \u001b[0m\u001b[90m String7 \u001b[0m\u001b[90m Int64 \u001b[0m\u001b[90m Int64 \u001b[0m\n",
       "─────┼───────────────────────────────────────\n",
       "   1 │ chr1         1  l1           2      7\n",
       "   2 │ chr1         2  l2           4      7\n",
       "   3 │ chr1         3  l3           6      7\n",
       "   4 │ chr1         4  l4           8      7\n",
       "   5 │ chr1         5  l5          10      7"
      ]
     },
     "execution_count": 28,
     "metadata": {},
     "output_type": "execute_result"
    }
   ],
   "source": [
    "left |> GOR.mutate((:Value,:other), row -> (2*row.Pos,7)) |> top(5) |> DataFrame"
   ]
  },
  {
   "cell_type": "code",
   "execution_count": 30,
   "metadata": {},
   "outputs": [
    {
     "data": {
      "text/plain": [
       "(a = 1, b = (c = 3,))"
      ]
     },
     "execution_count": 30,
     "metadata": {},
     "output_type": "execute_result"
    }
   ],
   "source": [
    "n = (a = 1, b = (c = 3,))"
   ]
  },
  {
   "cell_type": "code",
   "execution_count": 31,
   "metadata": {},
   "outputs": [
    {
     "data": {
      "text/plain": [
       "(c = 3,)"
      ]
     },
     "execution_count": 31,
     "metadata": {},
     "output_type": "execute_result"
    }
   ],
   "source": [
    "n.b"
   ]
  },
  {
   "cell_type": "code",
   "execution_count": null,
   "metadata": {},
   "outputs": [],
   "source": []
  }
 ],
 "metadata": {
  "kernelspec": {
   "display_name": "Julia 1.8.0",
   "language": "julia",
   "name": "julia-1.8"
  },
  "language_info": {
   "file_extension": ".jl",
   "mimetype": "application/julia",
   "name": "julia",
   "version": "1.8.0"
  },
  "orig_nbformat": 4
 },
 "nbformat": 4,
 "nbformat_minor": 2
}
