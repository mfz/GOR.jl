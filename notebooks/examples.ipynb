{
 "cells": [
  {
   "cell_type": "markdown",
   "metadata": {},
   "source": [
    "# GOR.jl - examples"
   ]
  },
  {
   "cell_type": "code",
   "execution_count": 1,
   "metadata": {},
   "outputs": [],
   "source": [
    "using GOR\n",
    "using DataFrames"
   ]
  },
  {
   "cell_type": "code",
   "execution_count": 2,
   "metadata": {},
   "outputs": [
    {
     "data": {
      "text/plain": []
     },
     "execution_count": 2,
     "metadata": {},
     "output_type": "execute_result"
    },
    {
     "name": "stdout",
     "output_type": "stream",
     "text": [
      "<GorFile: /Users/florian/projects/GOR.jl/src/../test/right.gor>"
     ]
    }
   ],
   "source": [
    "left = GorFile(GOR.pkgpath(\"test\", \"left.gor\"))\n",
    "right = GorFile(GOR.pkgpath(\"test\", \"right.gor\"))"
   ]
  },
  {
   "cell_type": "code",
   "execution_count": 3,
   "metadata": {},
   "outputs": [
    {
     "data": {
      "text/plain": [
       "NamedTuple{(:Chrom, :Pos, :Val), Tuple{InlineStrings.String7, Int64, InlineStrings.String7}}"
      ]
     },
     "execution_count": 3,
     "metadata": {},
     "output_type": "execute_result"
    }
   ],
   "source": [
    "eltype(left)"
   ]
  },
  {
   "cell_type": "code",
   "execution_count": 4,
   "metadata": {},
   "outputs": [
    {
     "data": {
      "text/plain": [
       "\"/tmp/left.arrow\""
      ]
     },
     "execution_count": 4,
     "metadata": {},
     "output_type": "execute_result"
    }
   ],
   "source": [
    "left |> write_arrow(\"/tmp/left.arrow\")"
   ]
  },
  {
   "cell_type": "code",
   "execution_count": 5,
   "metadata": {},
   "outputs": [
    {
     "data": {
      "text/html": [
       "<div class=\"data-frame\"><p>5 rows × 3 columns</p><table class=\"data-frame\"><thead><tr><th></th><th>Chrom</th><th>Pos</th><th>Val</th></tr><tr><th></th><th title=\"String\">String</th><th title=\"Int64\">Int64</th><th title=\"String\">String</th></tr></thead><tbody><tr><th>1</th><td>chr1</td><td>1</td><td>l1</td></tr><tr><th>2</th><td>chr1</td><td>2</td><td>l2</td></tr><tr><th>3</th><td>chr1</td><td>3</td><td>l3</td></tr><tr><th>4</th><td>chr1</td><td>4</td><td>l4</td></tr><tr><th>5</th><td>chr1</td><td>5</td><td>l5</td></tr></tbody></table></div>"
      ],
      "text/latex": [
       "\\begin{tabular}{r|ccc}\n",
       "\t& Chrom & Pos & Val\\\\\n",
       "\t\\hline\n",
       "\t& String & Int64 & String\\\\\n",
       "\t\\hline\n",
       "\t1 & chr1 & 1 & l1 \\\\\n",
       "\t2 & chr1 & 2 & l2 \\\\\n",
       "\t3 & chr1 & 3 & l3 \\\\\n",
       "\t4 & chr1 & 4 & l4 \\\\\n",
       "\t5 & chr1 & 5 & l5 \\\\\n",
       "\\end{tabular}\n"
      ],
      "text/plain": [
       "\u001b[1m5×3 DataFrame\u001b[0m\n",
       "\u001b[1m Row \u001b[0m│\u001b[1m Chrom  \u001b[0m\u001b[1m Pos   \u001b[0m\u001b[1m Val    \u001b[0m\n",
       "\u001b[1m     \u001b[0m│\u001b[90m String \u001b[0m\u001b[90m Int64 \u001b[0m\u001b[90m String \u001b[0m\n",
       "─────┼───────────────────────\n",
       "   1 │ chr1        1  l1\n",
       "   2 │ chr1        2  l2\n",
       "   3 │ chr1        3  l3\n",
       "   4 │ chr1        4  l4\n",
       "   5 │ chr1        5  l5"
      ]
     },
     "execution_count": 5,
     "metadata": {},
     "output_type": "execute_result"
    }
   ],
   "source": [
    "ArrowFile(\"/tmp/left.arrow\") |> top(5) |> DataFrame"
   ]
  },
  {
   "cell_type": "code",
   "execution_count": 6,
   "metadata": {},
   "outputs": [
    {
     "data": {
      "text/html": [
       "<div class=\"data-frame\"><p>5 rows × 3 columns</p><table class=\"data-frame\"><thead><tr><th></th><th>Chrom</th><th>Pos</th><th>Val</th></tr><tr><th></th><th title=\"String\">String</th><th title=\"Int64\">Int64</th><th title=\"String\">String</th></tr></thead><tbody><tr><th>1</th><td>chr1</td><td>1</td><td>l1</td></tr><tr><th>2</th><td>chr1</td><td>2</td><td>l2</td></tr><tr><th>3</th><td>chr1</td><td>3</td><td>l3</td></tr><tr><th>4</th><td>chr1</td><td>4</td><td>l4</td></tr><tr><th>5</th><td>chr1</td><td>5</td><td>l5</td></tr></tbody></table></div>"
      ],
      "text/latex": [
       "\\begin{tabular}{r|ccc}\n",
       "\t& Chrom & Pos & Val\\\\\n",
       "\t\\hline\n",
       "\t& String & Int64 & String\\\\\n",
       "\t\\hline\n",
       "\t1 & chr1 & 1 & l1 \\\\\n",
       "\t2 & chr1 & 2 & l2 \\\\\n",
       "\t3 & chr1 & 3 & l3 \\\\\n",
       "\t4 & chr1 & 4 & l4 \\\\\n",
       "\t5 & chr1 & 5 & l5 \\\\\n",
       "\\end{tabular}\n"
      ],
      "text/plain": [
       "\u001b[1m5×3 DataFrame\u001b[0m\n",
       "\u001b[1m Row \u001b[0m│\u001b[1m Chrom  \u001b[0m\u001b[1m Pos   \u001b[0m\u001b[1m Val    \u001b[0m\n",
       "\u001b[1m     \u001b[0m│\u001b[90m String \u001b[0m\u001b[90m Int64 \u001b[0m\u001b[90m String \u001b[0m\n",
       "─────┼───────────────────────\n",
       "   1 │ chr1        1  l1\n",
       "   2 │ chr1        2  l2\n",
       "   3 │ chr1        3  l3\n",
       "   4 │ chr1        4  l4\n",
       "   5 │ chr1        5  l5"
      ]
     },
     "execution_count": 6,
     "metadata": {},
     "output_type": "execute_result"
    }
   ],
   "source": [
    "a = ArrowFile(\"/tmp/left.arrow\") \n",
    "r = Tables.namedtupleiterator(a)\n",
    "r |> top(5) |> DataFrame"
   ]
  },
  {
   "cell_type": "code",
   "execution_count": 7,
   "metadata": {},
   "outputs": [
    {
     "data": {
      "text/html": [
       "<div class=\"data-frame\"><p>5 rows × 3 columns</p><table class=\"data-frame\"><thead><tr><th></th><th>Chrom</th><th>Pos</th><th>Val</th></tr><tr><th></th><th title=\"InlineStrings.String7\">String7</th><th title=\"Int64\">Int64</th><th title=\"InlineStrings.String7\">String7</th></tr></thead><tbody><tr><th>1</th><td>chr1</td><td>1</td><td>r1</td></tr><tr><th>2</th><td>chr1</td><td>2</td><td>r2</td></tr><tr><th>3</th><td>chr1</td><td>3</td><td>r3</td></tr><tr><th>4</th><td>chr1</td><td>4</td><td>r4</td></tr><tr><th>5</th><td>chr1</td><td>5</td><td>r5</td></tr></tbody></table></div>"
      ],
      "text/latex": [
       "\\begin{tabular}{r|ccc}\n",
       "\t& Chrom & Pos & Val\\\\\n",
       "\t\\hline\n",
       "\t& String7 & Int64 & String7\\\\\n",
       "\t\\hline\n",
       "\t1 & chr1 & 1 & r1 \\\\\n",
       "\t2 & chr1 & 2 & r2 \\\\\n",
       "\t3 & chr1 & 3 & r3 \\\\\n",
       "\t4 & chr1 & 4 & r4 \\\\\n",
       "\t5 & chr1 & 5 & r5 \\\\\n",
       "\\end{tabular}\n"
      ],
      "text/plain": [
       "\u001b[1m5×3 DataFrame\u001b[0m\n",
       "\u001b[1m Row \u001b[0m│\u001b[1m Chrom   \u001b[0m\u001b[1m Pos   \u001b[0m\u001b[1m Val     \u001b[0m\n",
       "\u001b[1m     \u001b[0m│\u001b[90m String7 \u001b[0m\u001b[90m Int64 \u001b[0m\u001b[90m String7 \u001b[0m\n",
       "─────┼─────────────────────────\n",
       "   1 │ chr1         1  r1\n",
       "   2 │ chr1         2  r2\n",
       "   3 │ chr1         3  r3\n",
       "   4 │ chr1         4  r4\n",
       "   5 │ chr1         5  r5"
      ]
     },
     "execution_count": 7,
     "metadata": {},
     "output_type": "execute_result"
    }
   ],
   "source": [
    "right |> top(5) |> DataFrame"
   ]
  },
  {
   "cell_type": "code",
   "execution_count": 8,
   "metadata": {},
   "outputs": [
    {
     "data": {
      "text/html": [
       "<div class=\"data-frame\"><p>4 rows × 3 columns</p><table class=\"data-frame\"><thead><tr><th></th><th>Chrom</th><th>Pos</th><th>Val</th></tr><tr><th></th><th title=\"InlineStrings.String7\">String7</th><th title=\"Int64\">Int64</th><th title=\"InlineStrings.String7\">String7</th></tr></thead><tbody><tr><th>1</th><td>chr1</td><td>4</td><td>l4</td></tr><tr><th>2</th><td>chr1</td><td>5</td><td>l5</td></tr><tr><th>3</th><td>chr1</td><td>6</td><td>l6</td></tr><tr><th>4</th><td>chr1</td><td>7</td><td>l7</td></tr></tbody></table></div>"
      ],
      "text/latex": [
       "\\begin{tabular}{r|ccc}\n",
       "\t& Chrom & Pos & Val\\\\\n",
       "\t\\hline\n",
       "\t& String7 & Int64 & String7\\\\\n",
       "\t\\hline\n",
       "\t1 & chr1 & 4 & l4 \\\\\n",
       "\t2 & chr1 & 5 & l5 \\\\\n",
       "\t3 & chr1 & 6 & l6 \\\\\n",
       "\t4 & chr1 & 7 & l7 \\\\\n",
       "\\end{tabular}\n"
      ],
      "text/plain": [
       "\u001b[1m4×3 DataFrame\u001b[0m\n",
       "\u001b[1m Row \u001b[0m│\u001b[1m Chrom   \u001b[0m\u001b[1m Pos   \u001b[0m\u001b[1m Val     \u001b[0m\n",
       "\u001b[1m     \u001b[0m│\u001b[90m String7 \u001b[0m\u001b[90m Int64 \u001b[0m\u001b[90m String7 \u001b[0m\n",
       "─────┼─────────────────────────\n",
       "   1 │ chr1         4  l4\n",
       "   2 │ chr1         5  l5\n",
       "   3 │ chr1         6  l6\n",
       "   4 │ chr1         7  l7"
      ]
     },
     "execution_count": 8,
     "metadata": {},
     "output_type": "execute_result"
    }
   ],
   "source": [
    "left |> GOR.filter(r -> (r.Pos > 3) & (r.Pos < 8)) |> DataFrame"
   ]
  },
  {
   "cell_type": "code",
   "execution_count": 9,
   "metadata": {},
   "outputs": [],
   "source": [
    "j = GOR.join(left, right, leftjoin = true);"
   ]
  },
  {
   "cell_type": "code",
   "execution_count": 10,
   "metadata": {},
   "outputs": [
    {
     "data": {
      "text/plain": [
       "NamedTuple{(:Chrom, :Pos, :Val, :Chromx, :Posx, :Valx), Tuple{InlineStrings.String7, Int64, InlineStrings.String7, Union{Missing, InlineStrings.String7}, Union{Missing, Int64}, Union{Missing, InlineStrings.String7}}}"
      ]
     },
     "execution_count": 10,
     "metadata": {},
     "output_type": "execute_result"
    }
   ],
   "source": [
    "eltype(j)"
   ]
  },
  {
   "cell_type": "code",
   "execution_count": 11,
   "metadata": {},
   "outputs": [
    {
     "data": {
      "text/html": [
       "<div class=\"data-frame\"><p>5 rows × 7 columns</p><table class=\"data-frame\"><thead><tr><th></th><th>Chrom</th><th>Pos</th><th>Val</th><th>Chromx</th><th>Posx</th><th>Valx</th><th>Value</th></tr><tr><th></th><th title=\"InlineStrings.String7\">String7</th><th title=\"Int64\">Int64</th><th title=\"InlineStrings.String7\">String7</th><th title=\"Union{Missing, InlineStrings.String7}\">String7</th><th title=\"Union{Missing, Int64}\">Int64?</th><th title=\"Union{Missing, InlineStrings.String7}\">String7</th><th title=\"Int64\">Int64</th></tr></thead><tbody><tr><th>1</th><td>chr1</td><td>1</td><td>l1</td><td>chr1</td><td>1</td><td>r1</td><td>2</td></tr><tr><th>2</th><td>chr1</td><td>2</td><td>l2</td><td>chr1</td><td>2</td><td>r2</td><td>4</td></tr><tr><th>3</th><td>chr1</td><td>3</td><td>l3</td><td>chr1</td><td>3</td><td>r3</td><td>6</td></tr><tr><th>4</th><td>chr1</td><td>4</td><td>l4</td><td>chr1</td><td>4</td><td>r4</td><td>8</td></tr><tr><th>5</th><td>chr1</td><td>5</td><td>l5</td><td>chr1</td><td>5</td><td>r5</td><td>10</td></tr></tbody></table></div>"
      ],
      "text/latex": [
       "\\begin{tabular}{r|ccccccc}\n",
       "\t& Chrom & Pos & Val & Chromx & Posx & Valx & Value\\\\\n",
       "\t\\hline\n",
       "\t& String7 & Int64 & String7 & String7 & Int64? & String7 & Int64\\\\\n",
       "\t\\hline\n",
       "\t1 & chr1 & 1 & l1 & chr1 & 1 & r1 & 2 \\\\\n",
       "\t2 & chr1 & 2 & l2 & chr1 & 2 & r2 & 4 \\\\\n",
       "\t3 & chr1 & 3 & l3 & chr1 & 3 & r3 & 6 \\\\\n",
       "\t4 & chr1 & 4 & l4 & chr1 & 4 & r4 & 8 \\\\\n",
       "\t5 & chr1 & 5 & l5 & chr1 & 5 & r5 & 10 \\\\\n",
       "\\end{tabular}\n"
      ],
      "text/plain": [
       "\u001b[1m5×7 DataFrame\u001b[0m\n",
       "\u001b[1m Row \u001b[0m│\u001b[1m Chrom   \u001b[0m\u001b[1m Pos   \u001b[0m\u001b[1m Val     \u001b[0m\u001b[1m Chromx  \u001b[0m\u001b[1m Posx   \u001b[0m\u001b[1m Valx    \u001b[0m\u001b[1m Value \u001b[0m\n",
       "\u001b[1m     \u001b[0m│\u001b[90m String7 \u001b[0m\u001b[90m Int64 \u001b[0m\u001b[90m String7 \u001b[0m\u001b[90m String7 \u001b[0m\u001b[90m Int64? \u001b[0m\u001b[90m String7 \u001b[0m\u001b[90m Int64 \u001b[0m\n",
       "─────┼──────────────────────────────────────────────────────────\n",
       "   1 │ chr1         1  l1       chr1          1  r1           2\n",
       "   2 │ chr1         2  l2       chr1          2  r2           4\n",
       "   3 │ chr1         3  l3       chr1          3  r3           6\n",
       "   4 │ chr1         4  l4       chr1          4  r4           8\n",
       "   5 │ chr1         5  l5       chr1          5  r5          10"
      ]
     },
     "execution_count": 11,
     "metadata": {},
     "output_type": "execute_result"
    }
   ],
   "source": [
    "j |> top(5) |> GOR.mutate(x -> (Value = x.Pos * 2,)) |> DataFrame\n"
   ]
  },
  {
   "cell_type": "code",
   "execution_count": 12,
   "metadata": {},
   "outputs": [
    {
     "data": {
      "text/html": [
       "<div class=\"data-frame\"><p>5 rows × 6 columns</p><table class=\"data-frame\"><thead><tr><th></th><th>Chrom</th><th>leftPos</th><th>leftVal</th><th>Chromx</th><th>rightPos</th><th>rightVal</th></tr><tr><th></th><th title=\"InlineStrings.String7\">String7</th><th title=\"Int64\">Int64</th><th title=\"InlineStrings.String7\">String7</th><th title=\"Union{Missing, InlineStrings.String7}\">String7</th><th title=\"Union{Missing, Int64}\">Int64?</th><th title=\"Union{Missing, InlineStrings.String7}\">String7</th></tr></thead><tbody><tr><th>1</th><td>chr1</td><td>1</td><td>l1</td><td>chr1</td><td>1</td><td>r1</td></tr><tr><th>2</th><td>chr1</td><td>2</td><td>l2</td><td>chr1</td><td>2</td><td>r2</td></tr><tr><th>3</th><td>chr1</td><td>3</td><td>l3</td><td>chr1</td><td>3</td><td>r3</td></tr><tr><th>4</th><td>chr1</td><td>4</td><td>l4</td><td>chr1</td><td>4</td><td>r4</td></tr><tr><th>5</th><td>chr1</td><td>5</td><td>l5</td><td>chr1</td><td>5</td><td>r5</td></tr></tbody></table></div>"
      ],
      "text/latex": [
       "\\begin{tabular}{r|cccccc}\n",
       "\t& Chrom & leftPos & leftVal & Chromx & rightPos & rightVal\\\\\n",
       "\t\\hline\n",
       "\t& String7 & Int64 & String7 & String7 & Int64? & String7\\\\\n",
       "\t\\hline\n",
       "\t1 & chr1 & 1 & l1 & chr1 & 1 & r1 \\\\\n",
       "\t2 & chr1 & 2 & l2 & chr1 & 2 & r2 \\\\\n",
       "\t3 & chr1 & 3 & l3 & chr1 & 3 & r3 \\\\\n",
       "\t4 & chr1 & 4 & l4 & chr1 & 4 & r4 \\\\\n",
       "\t5 & chr1 & 5 & l5 & chr1 & 5 & r5 \\\\\n",
       "\\end{tabular}\n"
      ],
      "text/plain": [
       "\u001b[1m5×6 DataFrame\u001b[0m\n",
       "\u001b[1m Row \u001b[0m│\u001b[1m Chrom   \u001b[0m\u001b[1m leftPos \u001b[0m\u001b[1m leftVal \u001b[0m\u001b[1m Chromx  \u001b[0m\u001b[1m rightPos \u001b[0m\u001b[1m rightVal \u001b[0m\n",
       "\u001b[1m     \u001b[0m│\u001b[90m String7 \u001b[0m\u001b[90m Int64   \u001b[0m\u001b[90m String7 \u001b[0m\u001b[90m String7 \u001b[0m\u001b[90m Int64?   \u001b[0m\u001b[90m String7  \u001b[0m\n",
       "─────┼────────────────────────────────────────────────────────\n",
       "   1 │ chr1           1  l1       chr1            1  r1\n",
       "   2 │ chr1           2  l2       chr1            2  r2\n",
       "   3 │ chr1           3  l3       chr1            3  r3\n",
       "   4 │ chr1           4  l4       chr1            4  r4\n",
       "   5 │ chr1           5  l5       chr1            5  r5"
      ]
     },
     "execution_count": 12,
     "metadata": {},
     "output_type": "execute_result"
    }
   ],
   "source": [
    "j2 = j |> GOR.rename(:Pos => :leftPos, :Posx => :rightPos, :Val => :leftVal, :Valx => :rightVal) |> top(5) |> DataFrame"
   ]
  },
  {
   "cell_type": "code",
   "execution_count": 13,
   "metadata": {},
   "outputs": [
    {
     "data": {
      "text/html": [
       "<div class=\"data-frame\"><p>5 rows × 3 columns</p><table class=\"data-frame\"><thead><tr><th></th><th>Chrom</th><th>Position</th><th>Val</th></tr><tr><th></th><th title=\"InlineStrings.String7\">String7</th><th title=\"Int64\">Int64</th><th title=\"InlineStrings.String7\">String7</th></tr></thead><tbody><tr><th>1</th><td>chr1</td><td>1</td><td>l1</td></tr><tr><th>2</th><td>chr1</td><td>2</td><td>l2</td></tr><tr><th>3</th><td>chr1</td><td>3</td><td>l3</td></tr><tr><th>4</th><td>chr1</td><td>4</td><td>l4</td></tr><tr><th>5</th><td>chr1</td><td>5</td><td>l5</td></tr></tbody></table></div>"
      ],
      "text/latex": [
       "\\begin{tabular}{r|ccc}\n",
       "\t& Chrom & Position & Val\\\\\n",
       "\t\\hline\n",
       "\t& String7 & Int64 & String7\\\\\n",
       "\t\\hline\n",
       "\t1 & chr1 & 1 & l1 \\\\\n",
       "\t2 & chr1 & 2 & l2 \\\\\n",
       "\t3 & chr1 & 3 & l3 \\\\\n",
       "\t4 & chr1 & 4 & l4 \\\\\n",
       "\t5 & chr1 & 5 & l5 \\\\\n",
       "\\end{tabular}\n"
      ],
      "text/plain": [
       "\u001b[1m5×3 DataFrame\u001b[0m\n",
       "\u001b[1m Row \u001b[0m│\u001b[1m Chrom   \u001b[0m\u001b[1m Position \u001b[0m\u001b[1m Val     \u001b[0m\n",
       "\u001b[1m     \u001b[0m│\u001b[90m String7 \u001b[0m\u001b[90m Int64    \u001b[0m\u001b[90m String7 \u001b[0m\n",
       "─────┼────────────────────────────\n",
       "   1 │ chr1            1  l1\n",
       "   2 │ chr1            2  l2\n",
       "   3 │ chr1            3  l3\n",
       "   4 │ chr1            4  l4\n",
       "   5 │ chr1            5  l5"
      ]
     },
     "execution_count": 13,
     "metadata": {},
     "output_type": "execute_result"
    }
   ],
   "source": [
    "left |> GOR.rename(:Pos => :Position) |> top(5)  |> DataFrame"
   ]
  },
  {
   "cell_type": "code",
   "execution_count": 14,
   "metadata": {},
   "outputs": [
    {
     "data": {
      "text/plain": [
       "NamedTuple{(:Chrom, :Pos, :Val), Tuple{InlineStrings.String7, Int64, InlineStrings.String7}}"
      ]
     },
     "execution_count": 14,
     "metadata": {},
     "output_type": "execute_result"
    }
   ],
   "source": [
    "eltype(left)"
   ]
  },
  {
   "cell_type": "code",
   "execution_count": 15,
   "metadata": {},
   "outputs": [
    {
     "data": {
      "text/html": [
       "<div class=\"data-frame\"><p>5 rows × 5 columns</p><table class=\"data-frame\"><thead><tr><th></th><th>Chrom</th><th>Pos</th><th>Val</th><th>x</th><th>y</th></tr><tr><th></th><th title=\"InlineStrings.String7\">String7</th><th title=\"Int64\">Int64</th><th title=\"InlineStrings.String7\">String7</th><th title=\"Int64\">Int64</th><th title=\"Int64\">Int64</th></tr></thead><tbody><tr><th>1</th><td>chr1</td><td>1</td><td>l1</td><td>2</td><td>7</td></tr><tr><th>2</th><td>chr1</td><td>2</td><td>l2</td><td>4</td><td>7</td></tr><tr><th>3</th><td>chr1</td><td>3</td><td>l3</td><td>6</td><td>7</td></tr><tr><th>4</th><td>chr1</td><td>4</td><td>l4</td><td>8</td><td>7</td></tr><tr><th>5</th><td>chr1</td><td>5</td><td>l5</td><td>10</td><td>7</td></tr></tbody></table></div>"
      ],
      "text/latex": [
       "\\begin{tabular}{r|ccccc}\n",
       "\t& Chrom & Pos & Val & x & y\\\\\n",
       "\t\\hline\n",
       "\t& String7 & Int64 & String7 & Int64 & Int64\\\\\n",
       "\t\\hline\n",
       "\t1 & chr1 & 1 & l1 & 2 & 7 \\\\\n",
       "\t2 & chr1 & 2 & l2 & 4 & 7 \\\\\n",
       "\t3 & chr1 & 3 & l3 & 6 & 7 \\\\\n",
       "\t4 & chr1 & 4 & l4 & 8 & 7 \\\\\n",
       "\t5 & chr1 & 5 & l5 & 10 & 7 \\\\\n",
       "\\end{tabular}\n"
      ],
      "text/plain": [
       "\u001b[1m5×5 DataFrame\u001b[0m\n",
       "\u001b[1m Row \u001b[0m│\u001b[1m Chrom   \u001b[0m\u001b[1m Pos   \u001b[0m\u001b[1m Val     \u001b[0m\u001b[1m x     \u001b[0m\u001b[1m y     \u001b[0m\n",
       "\u001b[1m     \u001b[0m│\u001b[90m String7 \u001b[0m\u001b[90m Int64 \u001b[0m\u001b[90m String7 \u001b[0m\u001b[90m Int64 \u001b[0m\u001b[90m Int64 \u001b[0m\n",
       "─────┼───────────────────────────────────────\n",
       "   1 │ chr1         1  l1           2      7\n",
       "   2 │ chr1         2  l2           4      7\n",
       "   3 │ chr1         3  l3           6      7\n",
       "   4 │ chr1         4  l4           8      7\n",
       "   5 │ chr1         5  l5          10      7"
      ]
     },
     "execution_count": 15,
     "metadata": {},
     "output_type": "execute_result"
    }
   ],
   "source": [
    "left |> GOR.mutate(row -> (x = 2*row.Pos, y = 7)) |> top(5) |> DataFrame"
   ]
  },
  {
   "cell_type": "code",
   "execution_count": 16,
   "metadata": {},
   "outputs": [
    {
     "data": {
      "text/html": [
       "<div class=\"data-frame\"><p>5 rows × 2 columns</p><table class=\"data-frame\"><thead><tr><th></th><th>Chrom</th><th>Val</th></tr><tr><th></th><th title=\"InlineStrings.String7\">String7</th><th title=\"InlineStrings.String7\">String7</th></tr></thead><tbody><tr><th>1</th><td>chr1</td><td>l1</td></tr><tr><th>2</th><td>chr1</td><td>l2</td></tr><tr><th>3</th><td>chr1</td><td>l3</td></tr><tr><th>4</th><td>chr1</td><td>l4</td></tr><tr><th>5</th><td>chr1</td><td>l5</td></tr></tbody></table></div>"
      ],
      "text/latex": [
       "\\begin{tabular}{r|cc}\n",
       "\t& Chrom & Val\\\\\n",
       "\t\\hline\n",
       "\t& String7 & String7\\\\\n",
       "\t\\hline\n",
       "\t1 & chr1 & l1 \\\\\n",
       "\t2 & chr1 & l2 \\\\\n",
       "\t3 & chr1 & l3 \\\\\n",
       "\t4 & chr1 & l4 \\\\\n",
       "\t5 & chr1 & l5 \\\\\n",
       "\\end{tabular}\n"
      ],
      "text/plain": [
       "\u001b[1m5×2 DataFrame\u001b[0m\n",
       "\u001b[1m Row \u001b[0m│\u001b[1m Chrom   \u001b[0m\u001b[1m Val     \u001b[0m\n",
       "\u001b[1m     \u001b[0m│\u001b[90m String7 \u001b[0m\u001b[90m String7 \u001b[0m\n",
       "─────┼──────────────────\n",
       "   1 │ chr1     l1\n",
       "   2 │ chr1     l2\n",
       "   3 │ chr1     l3\n",
       "   4 │ chr1     l4\n",
       "   5 │ chr1     l5"
      ]
     },
     "execution_count": 16,
     "metadata": {},
     "output_type": "execute_result"
    }
   ],
   "source": [
    "left |> GOR.select(:Chrom, :Val) |> top(5) |> DataFrame"
   ]
  },
  {
   "cell_type": "markdown",
   "metadata": {},
   "source": [
    "Let's try out some things that couldmake it easier to program, now that Julia is on version 1.8"
   ]
  },
  {
   "cell_type": "code",
   "execution_count": 17,
   "metadata": {},
   "outputs": [
    {
     "data": {
      "text/plain": [
       "(a = 1, b = (c = 3,))"
      ]
     },
     "execution_count": 17,
     "metadata": {},
     "output_type": "execute_result"
    }
   ],
   "source": [
    "n = (a = 1, b = (c = 3,))"
   ]
  },
  {
   "cell_type": "code",
   "execution_count": 18,
   "metadata": {},
   "outputs": [
    {
     "data": {
      "text/plain": [
       "(c = 3,)"
      ]
     },
     "execution_count": 18,
     "metadata": {},
     "output_type": "execute_result"
    }
   ],
   "source": [
    "n.b"
   ]
  },
  {
   "cell_type": "code",
   "execution_count": 19,
   "metadata": {},
   "outputs": [
    {
     "data": {
      "text/plain": [
       "Tables.Schema:\n",
       " :Chrom  InlineStrings.String7\n",
       " :Pos    Int64\n",
       " :Val    InlineStrings.String7"
      ]
     },
     "execution_count": 19,
     "metadata": {},
     "output_type": "execute_result"
    }
   ],
   "source": [
    "left |> Tables.schema"
   ]
  },
  {
   "cell_type": "code",
   "execution_count": 20,
   "metadata": {},
   "outputs": [
    {
     "data": {
      "text/plain": [
       "1-element Vector{Any}:\n",
       " NamedTuple{(:a, :c), Tuple{Int64, Int64}}"
      ]
     },
     "execution_count": 20,
     "metadata": {},
     "output_type": "execute_result"
    }
   ],
   "source": [
    "Base.return_types(x -> (a = 2,c = 3))"
   ]
  },
  {
   "cell_type": "code",
   "execution_count": 21,
   "metadata": {},
   "outputs": [
    {
     "data": {
      "text/plain": [
       "(a = 3, b = 2, c = 4)"
      ]
     },
     "execution_count": 21,
     "metadata": {},
     "output_type": "execute_result"
    }
   ],
   "source": [
    "Base.merge((a = 1, b = 2), (a = 3, c = 4))"
   ]
  },
  {
   "cell_type": "markdown",
   "metadata": {},
   "source": [
    "Base.return_types works different for Tuples and NamedTuples when Union type is used"
   ]
  },
  {
   "cell_type": "code",
   "execution_count": 22,
   "metadata": {},
   "outputs": [
    {
     "data": {
      "text/plain": [
       "1-element Vector{Any}:\n",
       " NamedTuple{(:a, :b), _A} where _A<:Tuple{Union{Missing, Int64}, Union{Missing, Int64}}"
      ]
     },
     "execution_count": 22,
     "metadata": {},
     "output_type": "execute_result"
    }
   ],
   "source": [
    "rt = Base.return_types(x -> (a=2x,b=x+1), (Union{Missing, Int64},))"
   ]
  },
  {
   "cell_type": "code",
   "execution_count": 23,
   "metadata": {},
   "outputs": [
    {
     "data": {
      "text/plain": [
       "true"
      ]
     },
     "execution_count": 23,
     "metadata": {},
     "output_type": "execute_result"
    }
   ],
   "source": [
    "rt[1] <: NamedTuple"
   ]
  },
  {
   "cell_type": "code",
   "execution_count": 24,
   "metadata": {},
   "outputs": [
    {
     "data": {
      "text/plain": [
       "UnionAll"
      ]
     },
     "execution_count": 24,
     "metadata": {},
     "output_type": "execute_result"
    }
   ],
   "source": [
    "typeof(rt[1])"
   ]
  },
  {
   "cell_type": "markdown",
   "metadata": {},
   "source": [
    "To get the names, use"
   ]
  },
  {
   "cell_type": "code",
   "execution_count": 25,
   "metadata": {},
   "outputs": [
    {
     "data": {
      "text/plain": [
       "(:a, :b)"
      ]
     },
     "execution_count": 25,
     "metadata": {},
     "output_type": "execute_result"
    }
   ],
   "source": [
    "rt[1].body.parameters[1]"
   ]
  },
  {
   "cell_type": "markdown",
   "metadata": {},
   "source": [
    "and to get the type, use"
   ]
  },
  {
   "cell_type": "code",
   "execution_count": 26,
   "metadata": {},
   "outputs": [
    {
     "data": {
      "text/plain": [
       "Tuple{Union{Missing, Int64}, Union{Missing, Int64}}"
      ]
     },
     "execution_count": 26,
     "metadata": {},
     "output_type": "execute_result"
    }
   ],
   "source": [
    "rt[1].var.ub"
   ]
  },
  {
   "cell_type": "code",
   "execution_count": 27,
   "metadata": {},
   "outputs": [
    {
     "data": {
      "text/plain": [
       "1-element Vector{Any}:\n",
       " NamedTuple{(:a, :b), Tuple{Int64, Int64}}"
      ]
     },
     "execution_count": 27,
     "metadata": {},
     "output_type": "execute_result"
    }
   ],
   "source": [
    "rt = Base.return_types(x -> (a=2x,b=x+1), (Int64,))"
   ]
  },
  {
   "cell_type": "code",
   "execution_count": 28,
   "metadata": {},
   "outputs": [
    {
     "data": {
      "text/plain": [
       "true"
      ]
     },
     "execution_count": 28,
     "metadata": {},
     "output_type": "execute_result"
    }
   ],
   "source": [
    "rt[1] <: NamedTuple"
   ]
  },
  {
   "cell_type": "code",
   "execution_count": 29,
   "metadata": {},
   "outputs": [
    {
     "data": {
      "text/plain": [
       "DataType"
      ]
     },
     "execution_count": 29,
     "metadata": {},
     "output_type": "execute_result"
    }
   ],
   "source": [
    "typeof(rt[1])"
   ]
  },
  {
   "cell_type": "code",
   "execution_count": 30,
   "metadata": {},
   "outputs": [
    {
     "data": {
      "text/plain": [
       "(:a, :b)"
      ]
     },
     "execution_count": 30,
     "metadata": {},
     "output_type": "execute_result"
    }
   ],
   "source": [
    "rt[1].parameters[1]"
   ]
  },
  {
   "cell_type": "code",
   "execution_count": 31,
   "metadata": {},
   "outputs": [
    {
     "data": {
      "text/plain": [
       "Tuple{Int64, Int64}"
      ]
     },
     "execution_count": 31,
     "metadata": {},
     "output_type": "execute_result"
    }
   ],
   "source": [
    "rt[1].parameters[2]"
   ]
  },
  {
   "cell_type": "markdown",
   "metadata": {},
   "source": [
    "This lets us define a function"
   ]
  },
  {
   "cell_type": "code",
   "execution_count": 32,
   "metadata": {},
   "outputs": [
    {
     "data": {
      "text/plain": [
       "returntype (generic function with 1 method)"
      ]
     },
     "execution_count": 32,
     "metadata": {},
     "output_type": "execute_result"
    }
   ],
   "source": [
    "function returntype(func, intype)\n",
    "    rt = Base.return_types(func, intype)[1]\n",
    "\n",
    "    @assert rt <: NamedTuple \"func needs to return a NamedTuple\"\n",
    "\n",
    "    if typeof(rt) === DataType\n",
    "        return NamedTuple{rt.parameters[1], rt.parameters[2]}\n",
    "    elseif typeof(rt) === UnionAll\n",
    "        return NamedTuple{rt.body.parameters[1], rt.var.ub}\n",
    "    else\n",
    "        error(\"Unknown type\")\n",
    "    end\n",
    "end "
   ]
  },
  {
   "cell_type": "code",
   "execution_count": 33,
   "metadata": {},
   "outputs": [
    {
     "ename": "LoadError",
     "evalue": "AssertionError: func needs to return a NamedTuple",
     "output_type": "error",
     "traceback": [
      "AssertionError: func needs to return a NamedTuple",
      "",
      "Stacktrace:",
      " [1] returntype(func::Function, intype::Tuple{DataType})",
      "   @ Main ./In[32]:4",
      " [2] top-level scope",
      "   @ In[33]:1",
      " [3] eval",
      "   @ ./boot.jl:368 [inlined]",
      " [4] include_string(mapexpr::typeof(REPL.softscope), mod::Module, code::String, filename::String)",
      "   @ Base ./loading.jl:1428"
     ]
    }
   ],
   "source": [
    "returntype(r -> (r*2, r+1), (Int64,))"
   ]
  },
  {
   "cell_type": "code",
   "execution_count": 34,
   "metadata": {},
   "outputs": [
    {
     "data": {
      "text/plain": [
       "NamedTuple{(:a, :b), Tuple{Int64, Int64}}"
      ]
     },
     "execution_count": 34,
     "metadata": {},
     "output_type": "execute_result"
    }
   ],
   "source": [
    "rt = returntype(r -> (a = r*2, b = r+1), (Int64,))"
   ]
  },
  {
   "cell_type": "code",
   "execution_count": 35,
   "metadata": {},
   "outputs": [
    {
     "data": {
      "text/plain": [
       "NamedTuple{(:a, :b), Tuple{Union{Missing, Int64}, Union{Missing, Int64}}}"
      ]
     },
     "execution_count": 35,
     "metadata": {},
     "output_type": "execute_result"
    }
   ],
   "source": [
    "returntype(r -> (a = r*2, b = r+1), (Union{Missing,Int64},))\n"
   ]
  },
  {
   "cell_type": "code",
   "execution_count": 36,
   "metadata": {},
   "outputs": [
    {
     "data": {
      "text/plain": [
       "NamedTuple{(:a, :b), Tuple{Int64, Int64}}"
      ]
     },
     "execution_count": 36,
     "metadata": {},
     "output_type": "execute_result"
    }
   ],
   "source": [
    "returntype(r -> (a = r.x*2, b = r.x+1), (NamedTuple{(:x,), Tuple{Int64}},))"
   ]
  },
  {
   "cell_type": "code",
   "execution_count": 37,
   "metadata": {},
   "outputs": [
    {
     "data": {
      "text/plain": [
       "NamedTuple{(:a, :b), Tuple{Union{Missing, Int64}, Union{Missing, Int64}}}"
      ]
     },
     "execution_count": 37,
     "metadata": {},
     "output_type": "execute_result"
    }
   ],
   "source": [
    "returntype(r -> (a = r.x*2, b = r.x+1), (NamedTuple{(:x,), Tuple{Union{Missing,Int64}}},))"
   ]
  },
  {
   "cell_type": "code",
   "execution_count": 38,
   "metadata": {},
   "outputs": [
    {
     "data": {
      "text/plain": [
       "NamedTuple{(:a, :b, :x), Tuple{Int64, Int64, Union{Missing, Int64}}}"
      ]
     },
     "execution_count": 38,
     "metadata": {},
     "output_type": "execute_result"
    }
   ],
   "source": [
    "returntype( (x,y) -> Base.merge(x,y), (typeof((a = 2, b = 3)), NamedTuple{(:x,), Tuple{Union{Missing,Int64}}}))"
   ]
  },
  {
   "cell_type": "code",
   "execution_count": 39,
   "metadata": {},
   "outputs": [
    {
     "data": {
      "text/plain": [
       "NamedTuple{(:a, :b, :c), Tuple{Int64, Int64, Int64}}"
      ]
     },
     "execution_count": 39,
     "metadata": {},
     "output_type": "execute_result"
    }
   ],
   "source": [
    "returntype( x -> Base.merge(x, (c = x.a + 3,)), (typeof((a = 2, b = 3)),))"
   ]
  },
  {
   "cell_type": "code",
   "execution_count": 40,
   "metadata": {},
   "outputs": [
    {
     "data": {
      "text/plain": [
       "Tables.Schema:\n",
       " :Chrom  InlineStrings.String7\n",
       " :Pos    Int64\n",
       " :Val    InlineStrings.String7"
      ]
     },
     "execution_count": 40,
     "metadata": {},
     "output_type": "execute_result"
    }
   ],
   "source": [
    "Tables.schema(left)"
   ]
  },
  {
   "cell_type": "code",
   "execution_count": 41,
   "metadata": {},
   "outputs": [
    {
     "data": {
      "text/plain": [
       "NamedTuple{(:Chrom, :Pos, :Val), Tuple{InlineStrings.String7, Int64, InlineStrings.String7}}"
      ]
     },
     "execution_count": 41,
     "metadata": {},
     "output_type": "execute_result"
    }
   ],
   "source": [
    "eltype(left)"
   ]
  },
  {
   "cell_type": "code",
   "execution_count": 42,
   "metadata": {},
   "outputs": [
    {
     "data": {
      "text/plain": [
       "1-element Vector{Any}:\n",
       " NamedTuple{(:a, :b), Tuple{InlineStrings.String7, Int64}}"
      ]
     },
     "execution_count": 42,
     "metadata": {},
     "output_type": "execute_result"
    }
   ],
   "source": [
    "Base.return_types(x -> (a = x.Chrom, b = x.Pos + 123), (eltype(left),))"
   ]
  },
  {
   "cell_type": "code",
   "execution_count": 43,
   "metadata": {},
   "outputs": [
    {
     "data": {
      "text/plain": [
       "myselect2 (generic function with 1 method)"
      ]
     },
     "execution_count": 43,
     "metadata": {},
     "output_type": "execute_result"
    }
   ],
   "source": [
    "myselect2(iter) = ( (a = row.Chrom, b = row.Pos) for row in iter) "
   ]
  },
  {
   "cell_type": "code",
   "execution_count": 45,
   "metadata": {},
   "outputs": [
    {
     "data": {
      "text/plain": [
       "1-element Vector{Any}:\n",
       " Base.Generator{GOR.GorFileIter{Tables.NamedTupleIterator{Tables.Schema{(:Chrom, :Pos, :Val), Tuple{InlineStrings.String7, Int64, InlineStrings.String7}}, CSV.Rows{Vector{UInt8}, Tuple{}, Any, WeakRefStrings.PosLenString}}}, var\"#29#30\"}"
      ]
     },
     "execution_count": 45,
     "metadata": {},
     "output_type": "execute_result"
    }
   ],
   "source": [
    "Base.return_types(myselect2, (typeof(left),))"
   ]
  },
  {
   "cell_type": "code",
   "execution_count": 46,
   "metadata": {},
   "outputs": [
    {
     "data": {
      "text/plain": [
       "NamedTuple{(:Chrom,), Tuple{InlineStrings.String7}}"
      ]
     },
     "execution_count": 46,
     "metadata": {},
     "output_type": "execute_result"
    }
   ],
   "source": [
    "eltype(left |> GOR.select(:Chrom))"
   ]
  },
  {
   "cell_type": "code",
   "execution_count": 52,
   "metadata": {},
   "outputs": [
    {
     "data": {
      "text/plain": [
       "GOR.Map{Tables.NamedTupleIterator{Tables.Schema{(:a, :b), Tuple{Int64, Int64}}, Tables.RowIterator{NamedTuple{(:a, :b), Tuple{Vector{Int64}, Vector{Int64}}}}}, GOR.var\"#57#58\"{var\"#41#42\"}, NamedTuple{(:a, :b, :Value), Tuple{Int64, Int64, Int64}}}(Tables.NamedTupleIterator{Tables.Schema{(:a, :b), Tuple{Int64, Int64}}, Tables.RowIterator{NamedTuple{(:a, :b), Tuple{Vector{Int64}, Vector{Int64}}}}}(Tables.RowIterator{NamedTuple{(:a, :b), Tuple{Vector{Int64}, Vector{Int64}}}}((a = [1, 2, 3], b = [4, 5, 6]), 3)), GOR.var\"#57#58\"{var\"#41#42\"}(var\"#41#42\"()))"
      ]
     },
     "execution_count": 52,
     "metadata": {},
     "output_type": "execute_result"
    }
   ],
   "source": [
    "DataFrame(a = 1:3, b = 4:6) |> Tables.namedtupleiterator |> GOR.mutate(r -> (Value = r.a*2,)) #|> top(1) |> DataFrame"
   ]
  }
 ],
 "metadata": {
  "kernelspec": {
   "display_name": "Julia 1.8.0",
   "language": "julia",
   "name": "julia-1.8"
  },
  "language_info": {
   "file_extension": ".jl",
   "mimetype": "application/julia",
   "name": "julia",
   "version": "1.8.0"
  },
  "orig_nbformat": 4
 },
 "nbformat": 4,
 "nbformat_minor": 2
}
